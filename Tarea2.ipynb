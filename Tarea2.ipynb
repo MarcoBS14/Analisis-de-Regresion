{
 "cells": [
  {
   "cell_type": "code",
   "execution_count": 3,
   "id": "acfee35b",
   "metadata": {},
   "outputs": [
    {
     "data": {
      "text/html": [
       "<div>\n",
       "<style scoped>\n",
       "    .dataframe tbody tr th:only-of-type {\n",
       "        vertical-align: middle;\n",
       "    }\n",
       "\n",
       "    .dataframe tbody tr th {\n",
       "        vertical-align: top;\n",
       "    }\n",
       "\n",
       "    .dataframe thead th {\n",
       "        text-align: right;\n",
       "    }\n",
       "</style>\n",
       "<table border=\"1\" class=\"dataframe\">\n",
       "  <thead>\n",
       "    <tr style=\"text-align: right;\">\n",
       "      <th></th>\n",
       "      <th>TV</th>\n",
       "      <th>Radio</th>\n",
       "      <th>Newspaper</th>\n",
       "      <th>Sales</th>\n",
       "    </tr>\n",
       "  </thead>\n",
       "  <tbody>\n",
       "    <tr>\n",
       "      <th>0</th>\n",
       "      <td>230.1</td>\n",
       "      <td>37.8</td>\n",
       "      <td>69.2</td>\n",
       "      <td>22.1</td>\n",
       "    </tr>\n",
       "    <tr>\n",
       "      <th>1</th>\n",
       "      <td>44.5</td>\n",
       "      <td>39.3</td>\n",
       "      <td>45.1</td>\n",
       "      <td>10.4</td>\n",
       "    </tr>\n",
       "    <tr>\n",
       "      <th>2</th>\n",
       "      <td>17.2</td>\n",
       "      <td>45.9</td>\n",
       "      <td>69.3</td>\n",
       "      <td>9.3</td>\n",
       "    </tr>\n",
       "    <tr>\n",
       "      <th>3</th>\n",
       "      <td>151.5</td>\n",
       "      <td>41.3</td>\n",
       "      <td>58.5</td>\n",
       "      <td>18.5</td>\n",
       "    </tr>\n",
       "    <tr>\n",
       "      <th>4</th>\n",
       "      <td>180.8</td>\n",
       "      <td>10.8</td>\n",
       "      <td>58.4</td>\n",
       "      <td>12.9</td>\n",
       "    </tr>\n",
       "  </tbody>\n",
       "</table>\n",
       "</div>"
      ],
      "text/plain": [
       "      TV  Radio  Newspaper  Sales\n",
       "0  230.1   37.8       69.2   22.1\n",
       "1   44.5   39.3       45.1   10.4\n",
       "2   17.2   45.9       69.3    9.3\n",
       "3  151.5   41.3       58.5   18.5\n",
       "4  180.8   10.8       58.4   12.9"
      ]
     },
     "execution_count": 3,
     "metadata": {},
     "output_type": "execute_result"
    }
   ],
   "source": [
    "import pandas as pd\n",
    "import matplotlib.pyplot as plt \n",
    "import numpy as np\n",
    "df = pd.read_csv(\"Advertising.csv\")  \n",
    "df.head()"
   ]
  },
  {
   "cell_type": "code",
   "execution_count": 5,
   "id": "e223ade8",
   "metadata": {},
   "outputs": [
    {
     "name": "stdout",
     "output_type": "stream",
     "text": [
      "200\n",
      "101.89\n",
      "12.08\n"
     ]
    }
   ],
   "source": [
    "x = df[\"TV\"].astype(float).values\n",
    "y = df[\"Sales\"].astype(float).values\n",
    "\n",
    "n = len(x)\n",
    "x_mean = x.mean()\n",
    "y_mean = y.mean()\n",
    "\n",
    "print(n)\n",
    "print(x_mean)\n",
    "print(y_mean)"
   ]
  },
  {
   "cell_type": "code",
   "execution_count": 7,
   "id": "b30ea9f9",
   "metadata": {},
   "outputs": [
    {
     "data": {
      "image/png": "[encoded data removed]",
      "text/plain": [
       "<Figure size 600x400 with 1 Axes>"
      ]
     },
     "metadata": {},
     "output_type": "display_data"
    }
   ],
   "source": [
    "Sxx = np.sum((x - x_mean)**2)\n",
    "Sxy = np.sum((x - x_mean)*(y - y_mean))\n",
    "beta1 = Sxy / Sxx\n",
    "beta0 = y_mean - beta1 * x_mean\n",
    "\n",
    "plt.figure(figsize=(6,4))\n",
    "plt.scatter(x, y)\n",
    "x_line = np.linspace(x.min(), x.max(), 100)\n",
    "y_line = beta0 + beta1 * x_line\n",
    "plt.plot(x_line, y_line)\n",
    "plt.xlabel(\"TV (miles de dólares)\")\n",
    "plt.ylabel(\"Sales (miles de unidades)\")\n",
    "plt.title(\"Dispersión Sales vs TV con recta de regresión\")\n",
    "plt.tight_layout()\n",
    "plt.show()"
   ]
  },
  {
   "cell_type": "code",
   "execution_count": 4,
   "id": "77688d12",
   "metadata": {},
   "outputs": [
    {
     "data": {
      "text/plain": [
       "np.float64(0.7769242755776288)"
      ]
     },
     "execution_count": 4,
     "metadata": {},
     "output_type": "execute_result"
    }
   ],
   "source": [
    "# Cálculo manual equivalente\n",
    "Syy = np.sum((y - y_mean)**2)\n",
    "r = Sxy / np.sqrt(Sxx * Syy)\n",
    "r"
   ]
  },
  {
   "cell_type": "code",
   "execution_count": 5,
   "id": "4057665e",
   "metadata": {},
   "outputs": [
    {
     "data": {
      "text/plain": [
       "(np.float64(7.334018424710768), np.float64(0.04657946388545718))"
      ]
     },
     "execution_count": 5,
     "metadata": {},
     "output_type": "execute_result"
    }
   ],
   "source": [
    "beta0, beta1"
   ]
  },
  {
   "cell_type": "code",
   "execution_count": 7,
   "id": "ee6b9ac8",
   "metadata": {},
   "outputs": [
    {
     "data": {
      "text/plain": [
       "(np.float64(0.6036113299818231), np.float64(9.3361943959756))"
      ]
     },
     "execution_count": 7,
     "metadata": {},
     "output_type": "execute_result"
    }
   ],
   "source": [
    "y_hat = beta0 + beta1 * x\n",
    "resid = y - y_hat\n",
    "\n",
    "SSE = np.sum(resid**2)           # Sum of Squared Errors\n",
    "SST = np.sum((y - y_mean)**2)    # Total Sum of Squares\n",
    "SSR = SST - SSE                  # Regression Sum of Squares\n",
    "\n",
    "R2 = SSR / SST\n",
    "MSE = SSE / (n - 2)              # Error cuadrático medio (estimado con df = n-2)\n",
    "\n",
    "R2, MSE"
   ]
  },
  {
   "cell_type": "code",
   "execution_count": 8,
   "id": "a41f364f",
   "metadata": {},
   "outputs": [
    {
     "data": {
      "text/html": [
       "<div>\n",
       "<style scoped>\n",
       "    .dataframe tbody tr th:only-of-type {\n",
       "        vertical-align: middle;\n",
       "    }\n",
       "\n",
       "    .dataframe tbody tr th {\n",
       "        vertical-align: top;\n",
       "    }\n",
       "\n",
       "    .dataframe thead th {\n",
       "        text-align: right;\n",
       "    }\n",
       "</style>\n",
       "<table border=\"1\" class=\"dataframe\">\n",
       "  <thead>\n",
       "    <tr style=\"text-align: right;\">\n",
       "      <th></th>\n",
       "      <th>Fuente</th>\n",
       "      <th>df</th>\n",
       "      <th>SS</th>\n",
       "      <th>MS</th>\n",
       "      <th>F</th>\n",
       "    </tr>\n",
       "  </thead>\n",
       "  <tbody>\n",
       "    <tr>\n",
       "      <th>0</th>\n",
       "      <td>Regresión</td>\n",
       "      <td>1</td>\n",
       "      <td>2814.95351</td>\n",
       "      <td>2814.95351</td>\n",
       "      <td>301.509736</td>\n",
       "    </tr>\n",
       "    <tr>\n",
       "      <th>1</th>\n",
       "      <td>Residual</td>\n",
       "      <td>198</td>\n",
       "      <td>1848.56649</td>\n",
       "      <td>9.336194</td>\n",
       "      <td></td>\n",
       "    </tr>\n",
       "    <tr>\n",
       "      <th>2</th>\n",
       "      <td>Total</td>\n",
       "      <td>199</td>\n",
       "      <td>4663.52000</td>\n",
       "      <td></td>\n",
       "      <td></td>\n",
       "    </tr>\n",
       "  </tbody>\n",
       "</table>\n",
       "</div>"
      ],
      "text/plain": [
       "      Fuente   df          SS          MS           F\n",
       "0  Regresión    1  2814.95351  2814.95351  301.509736\n",
       "1   Residual  198  1848.56649    9.336194            \n",
       "2      Total  199  4663.52000                        "
      ]
     },
     "execution_count": 8,
     "metadata": {},
     "output_type": "execute_result"
    }
   ],
   "source": [
    "df_reg = 1\n",
    "df_res = n - 2\n",
    "df_tot = n - 1\n",
    "\n",
    "MSR = SSR / df_reg\n",
    "MSE = SSE / df_res\n",
    "F = MSR / MSE\n",
    "\n",
    "anova = pd.DataFrame({\n",
    "    \"Fuente\": [\"Regresión\", \"Residual\", \"Total\"],\n",
    "    \"df\":     [df_reg, df_res, df_tot],\n",
    "    \"SS\":     [SSR,     SSE,    SST],\n",
    "    \"MS\":     [MSR,     MSE,    \"\" ],\n",
    "    \"F\":      [F,       \"\",     \"\" ]\n",
    "})\n",
    "anova"
   ]
  },
  {
   "cell_type": "code",
   "execution_count": 9,
   "id": "cb0f8d2d",
   "metadata": {},
   "outputs": [
    {
     "data": {
      "image/png": "[encoded data removed]",
      "text/plain": [
       "<Figure size 600x400 with 1 Axes>"
      ]
     },
     "metadata": {},
     "output_type": "display_data"
    }
   ],
   "source": [
    "plt.figure(figsize=(6,4))\n",
    "plt.scatter(x, y)\n",
    "plt.plot(x_line, y_line)\n",
    "plt.xlabel(\"TV (miles de dólares)\")\n",
    "plt.ylabel(\"Sales (miles de unidades)\")\n",
    "plt.title(\"Dispersión Sales vs TV con recta de regresión\")\n",
    "plt.tight_layout()\n",
    "plt.savefig(\"scatter_tv_sales.png\", dpi=200)"
   ]
  },
  {
   "cell_type": "code",
   "execution_count": 10,
   "id": "af293799",
   "metadata": {},
   "outputs": [
    {
     "name": "stdout",
     "output_type": "stream",
     "text": [
      "n = 200\n",
      "Modelo: Sales = 7.3340 + 0.0466·TV\n",
      "r = 0.7769\n",
      "R^2 = 0.6036\n",
      "SST = 4663.520000 | SSR = 2814.953510 | SSE = 1848.566490\n",
      "MSE = 9.336194\n",
      "F = 301.5097\n"
     ]
    }
   ],
   "source": [
    "print(f\"n = {n}\")\n",
    "print(f\"Modelo: Sales = {beta0:.4f} + {beta1:.4f}·TV\")\n",
    "print(f\"r = {r:.4f}\")\n",
    "print(f\"R^2 = {R2:.4f}\")\n",
    "print(f\"SST = {SST:.6f} | SSR = {SSR:.6f} | SSE = {SSE:.6f}\")\n",
    "print(f\"MSE = {MSE:.6f}\")\n",
    "print(f\"F = {F:.4f}\")"
   ]
  }
 ],
 "metadata": {
  "kernelspec": {
   "display_name": "Python 3",
   "language": "python",
   "name": "python3"
  },
  "language_info": {
   "codemirror_mode": {
    "name": "ipython",
    "version": 3
   },
   "file_extension": ".py",
   "mimetype": "text/x-python",
   "name": "python",
   "nbconvert_exporter": "python",
   "pygments_lexer": "ipython3",
   "version": "3.13.3"
  }
 },
 "nbformat": 4,
 "nbformat_minor": 5
}
